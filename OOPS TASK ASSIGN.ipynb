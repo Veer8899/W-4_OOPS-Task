{
 "cells": [
  {
   "cell_type": "markdown",
   "id": "b403f22f-dfc2-4537-98fa-218dcfea132b",
   "metadata": {},
   "source": [
    "## Q1, Create a vehicle class with an init method having instance variables as name_of_vehicle, max_speed and average_of_vehicle."
   ]
  },
  {
   "cell_type": "code",
   "execution_count": 24,
   "id": "f1e1fcb0-7895-43a4-99f6-47310133ea3f",
   "metadata": {},
   "outputs": [],
   "source": [
    "class vehicle:\n",
    "    \n",
    "    def __init__(self, name_of_vehicle, max_speed, average_of_vehicle):\n",
    "        self.name_of_vehicle = name_of_vehicle\n",
    "        self.max_speed = max_speed\n",
    "        self.average_of_vehicle = average_of_vehicle"
   ]
  },
  {
   "cell_type": "code",
   "execution_count": 32,
   "id": "7b4ccdf7-9b03-462a-9cc8-b090bdae8568",
   "metadata": {},
   "outputs": [],
   "source": [
    "car = vehicle(\"BMW\", 400, 100)"
   ]
  },
  {
   "cell_type": "code",
   "execution_count": 25,
   "id": "30cd4882-a5b2-4c31-9179-13bcbbf369dd",
   "metadata": {},
   "outputs": [
    {
     "data": {
      "text/plain": [
       "100"
      ]
     },
     "execution_count": 25,
     "metadata": {},
     "output_type": "execute_result"
    }
   ],
   "source": [
    "car.average_of_vehicle"
   ]
  },
  {
   "cell_type": "code",
   "execution_count": 26,
   "id": "958dbe7e-d78c-4fed-95f7-3cc501209f02",
   "metadata": {},
   "outputs": [
    {
     "data": {
      "text/plain": [
       "'BMW'"
      ]
     },
     "execution_count": 26,
     "metadata": {},
     "output_type": "execute_result"
    }
   ],
   "source": [
    "car.name_of_vehicle\n"
   ]
  },
  {
   "cell_type": "code",
   "execution_count": 27,
   "id": "00860333-35e2-48d2-9fca-2b0fb31fd41e",
   "metadata": {},
   "outputs": [
    {
     "data": {
      "text/plain": [
       "400"
      ]
     },
     "execution_count": 27,
     "metadata": {},
     "output_type": "execute_result"
    }
   ],
   "source": [
    "car.max_speed"
   ]
  },
  {
   "cell_type": "markdown",
   "id": "dd656248-5b96-413b-81fb-87ea657c1522",
   "metadata": {},
   "source": [
    "## Q2. Create a child class car from the vehicle class created in Que 1, which will inherit the vehicle class. Create a method named seating_capacity which takes capacity as an argument and returns the name of the vehicle and its seating capacity."
   ]
  },
  {
   "cell_type": "code",
   "execution_count": 34,
   "id": "cd7f892d-322e-40f2-b2ce-258163e0b506",
   "metadata": {},
   "outputs": [],
   "source": [
    "class Car(vehicle):\n",
    "    \n",
    "    def seating_capacity(self, capacity):\n",
    "        return f\"The {self.name_of_vehicle} and its seating capacity is {capacity}.\""
   ]
  },
  {
   "cell_type": "code",
   "execution_count": 39,
   "id": "22964d52-4ae9-4136-ab51-64d61c835438",
   "metadata": {},
   "outputs": [
    {
     "data": {
      "text/plain": [
       "'The BMW and its seating capacity is 4.'"
      ]
     },
     "execution_count": 39,
     "metadata": {},
     "output_type": "execute_result"
    }
   ],
   "source": [
    "car = Car(\"BMW\", 400, 100)\n",
    "car.seating_capacity(4)"
   ]
  },
  {
   "cell_type": "markdown",
   "id": "75e849b6-0169-4c7e-9dd0-4f80bf1b5488",
   "metadata": {},
   "source": [
    "## Q3. What is multiple inheritance? Write a python code to demonstrate multiple inheritance."
   ]
  },
  {
   "cell_type": "markdown",
   "id": "1808c928-d5ce-4bd2-9ca9-0abf6bc6f510",
   "metadata": {},
   "source": [
    "#### It allows a child class to inherit from multiple parent classes in which child class can inherit attributes and methods of parent classes."
   ]
  },
  {
   "cell_type": "code",
   "execution_count": 40,
   "id": "d99792da-6762-43d6-886e-b86157ad6b88",
   "metadata": {},
   "outputs": [],
   "source": [
    "class class1:\n",
    "    def meth1(self):\n",
    "        return \"this is my first method\""
   ]
  },
  {
   "cell_type": "code",
   "execution_count": 41,
   "id": "5cdd21ff-777d-4cca-a505-e7fa51f9363b",
   "metadata": {},
   "outputs": [],
   "source": [
    "class class2:\n",
    "    def meth2(self):\n",
    "        return \"this is my 2nd method\""
   ]
  },
  {
   "cell_type": "code",
   "execution_count": 42,
   "id": "fc7d11bd-d02f-49f2-8e01-fa2165297e15",
   "metadata": {},
   "outputs": [],
   "source": [
    "class class3(class1, class2):\n",
    "    pass"
   ]
  },
  {
   "cell_type": "code",
   "execution_count": 43,
   "id": "fd389b75-558a-4118-9b23-1fcdfe9549a4",
   "metadata": {},
   "outputs": [],
   "source": [
    "child = class3()"
   ]
  },
  {
   "cell_type": "code",
   "execution_count": 44,
   "id": "ed8c3b98-608e-49e3-a8b2-6eadc86e267b",
   "metadata": {},
   "outputs": [
    {
     "data": {
      "text/plain": [
       "'this is my first method'"
      ]
     },
     "execution_count": 44,
     "metadata": {},
     "output_type": "execute_result"
    }
   ],
   "source": [
    "child.meth1()"
   ]
  },
  {
   "cell_type": "code",
   "execution_count": 45,
   "id": "c46cdcf0-74ab-4058-9a13-8632090d3067",
   "metadata": {},
   "outputs": [
    {
     "data": {
      "text/plain": [
       "'this is my 2nd method'"
      ]
     },
     "execution_count": 45,
     "metadata": {},
     "output_type": "execute_result"
    }
   ],
   "source": [
    "child.meth2()"
   ]
  },
  {
   "cell_type": "markdown",
   "id": "4bb91852-fee0-4440-8388-66b387c6c041",
   "metadata": {},
   "source": [
    "## Q4. What are getter and setter in python? Create a class and create a getter and a setter method in this class."
   ]
  },
  {
   "cell_type": "markdown",
   "id": "e2fb3884-82a3-43ef-be44-7fbd832fc18b",
   "metadata": {},
   "source": [
    "#### A getter method is used to get or access the value of an attribute and a setter method is used to modify the value of an attribute."
   ]
  },
  {
   "cell_type": "code",
   "execution_count": 54,
   "id": "d289e824-27b8-4892-ae26-2cc1cba5112f",
   "metadata": {},
   "outputs": [],
   "source": [
    "class Test:\n",
    "    def __init__(self, name):\n",
    "        self._name = name\n",
    "        \n",
    "    def set_name(self, new_name):\n",
    "        self._name = new_name\n",
    "        \n",
    "    def get_name(self):\n",
    "        return self._name\n",
    "    \n",
    "   \n",
    "    "
   ]
  },
  {
   "cell_type": "code",
   "execution_count": 55,
   "id": "e95c78a9-4356-4b1c-ba57-3e99542db1f0",
   "metadata": {},
   "outputs": [],
   "source": [
    "name1 = Test(\"raj\")"
   ]
  },
  {
   "cell_type": "code",
   "execution_count": 59,
   "id": "2e1ae7d9-c97f-40f8-a11e-feb4844dcd80",
   "metadata": {},
   "outputs": [
    {
     "data": {
      "text/plain": [
       "'raj'"
      ]
     },
     "execution_count": 59,
     "metadata": {},
     "output_type": "execute_result"
    }
   ],
   "source": [
    "name1.get_name()"
   ]
  },
  {
   "cell_type": "markdown",
   "id": "29bc71e6-4e98-4076-9eb5-1aa227fdeb1d",
   "metadata": {},
   "source": [
    "## Q5.What is method overriding in python? Write a python code to demonstrate method overriding."
   ]
  },
  {
   "cell_type": "markdown",
   "id": "a788331c-bc3c-4f90-8bcd-0c7d6bc5aec3",
   "metadata": {},
   "source": [
    "#### Method overriding means, it contain same method name with same attribute of parent class or we can say when a subclass overrides a method of a parent class, where subclass provide a different implementation for a method that is already defined in its parent class."
   ]
  },
  {
   "cell_type": "code",
   "execution_count": 63,
   "id": "a8017406-aef9-4b8d-91e6-91633bb27ee6",
   "metadata": {},
   "outputs": [],
   "source": [
    "class Animal:\n",
    "    def eat(self):\n",
    "        return \"The animal eat differnt food.\""
   ]
  },
  {
   "cell_type": "code",
   "execution_count": 64,
   "id": "0d5ba801-d186-4919-ab54-ecec1c9ef4dd",
   "metadata": {},
   "outputs": [],
   "source": [
    "class Dog:\n",
    "    def eat(self):\n",
    "        return \"The dog eat meat.\""
   ]
  },
  {
   "cell_type": "code",
   "execution_count": 65,
   "id": "1d81ea0d-3b07-4aa0-ad78-44aea44ff110",
   "metadata": {},
   "outputs": [],
   "source": [
    "class Cat:\n",
    "    def eat(self):\n",
    "        return \"The cat eat milk.\"\n",
    "    "
   ]
  },
  {
   "cell_type": "code",
   "execution_count": 66,
   "id": "19cb6084-b97a-4114-a6cd-0e048617dddc",
   "metadata": {},
   "outputs": [],
   "source": [
    "animal = Animal()"
   ]
  },
  {
   "cell_type": "code",
   "execution_count": 67,
   "id": "04a0e4d5-a69f-4fa5-9846-386a4d48c242",
   "metadata": {},
   "outputs": [
    {
     "data": {
      "text/plain": [
       "'The animal eat differnt food.'"
      ]
     },
     "execution_count": 67,
     "metadata": {},
     "output_type": "execute_result"
    }
   ],
   "source": [
    "animal.eat()"
   ]
  },
  {
   "cell_type": "code",
   "execution_count": 68,
   "id": "43cab7f0-75a0-4051-8072-ac36041a2b8a",
   "metadata": {},
   "outputs": [],
   "source": [
    "dog = Dog()"
   ]
  },
  {
   "cell_type": "code",
   "execution_count": 69,
   "id": "26c50c01-8f74-4caa-81aa-bce48273b7c5",
   "metadata": {},
   "outputs": [
    {
     "data": {
      "text/plain": [
       "'The dog eat meat.'"
      ]
     },
     "execution_count": 69,
     "metadata": {},
     "output_type": "execute_result"
    }
   ],
   "source": [
    "dog.eat()"
   ]
  },
  {
   "cell_type": "code",
   "execution_count": 70,
   "id": "7edbabdd-6824-475b-a984-d323a09eb75b",
   "metadata": {},
   "outputs": [],
   "source": [
    "cat = Cat()\n"
   ]
  },
  {
   "cell_type": "code",
   "execution_count": 71,
   "id": "62f0ed17-ccb5-4f70-897d-190a97eec788",
   "metadata": {},
   "outputs": [
    {
     "data": {
      "text/plain": [
       "'The cat eat milk.'"
      ]
     },
     "execution_count": 71,
     "metadata": {},
     "output_type": "execute_result"
    }
   ],
   "source": [
    "cat.eat()"
   ]
  },
  {
   "cell_type": "code",
   "execution_count": null,
   "id": "46d82810-7588-4fb2-9b25-8c14f7275b46",
   "metadata": {},
   "outputs": [],
   "source": []
  }
 ],
 "metadata": {
  "kernelspec": {
   "display_name": "Python 3 (ipykernel)",
   "language": "python",
   "name": "python3"
  },
  "language_info": {
   "codemirror_mode": {
    "name": "ipython",
    "version": 3
   },
   "file_extension": ".py",
   "mimetype": "text/x-python",
   "name": "python",
   "nbconvert_exporter": "python",
   "pygments_lexer": "ipython3",
   "version": "3.10.8"
  }
 },
 "nbformat": 4,
 "nbformat_minor": 5
}
